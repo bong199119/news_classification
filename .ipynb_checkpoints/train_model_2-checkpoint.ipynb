{
 "cells": [
  {
   "cell_type": "code",
   "execution_count": 7,
   "metadata": {},
   "outputs": [],
   "source": [
    "def train_model():\n",
    "    from sklearn.model_selection import train_test_split\n",
    "    from model_softmax_5 import make_model\n",
    "    from preprocessing_1000 import preprocessing\n",
    "    from crawling import crawling\n",
    "    \n",
    "    crawling()\n",
    "    model = make_model()\n",
    "    preprocessing = preprocessing()\n",
    "    \n",
    "    y_train, X_train = preprocessing\n",
    "    X_train, X_test, y_train, y_test = train_test_split(X_train, y_train, test_size=0.2, random_state=1234)\n",
    "    \n",
    "    history = model.fit(X_train,\n",
    "                        y_train,\n",
    "                        epochs = 20,\n",
    "                        batch_size = 512,\n",
    "                        )\n",
    "    return model,X_test,y_test"
   ]
  }
 ],
 "metadata": {
  "kernelspec": {
   "display_name": "Python 3",
   "language": "python",
   "name": "python3"
  },
  "language_info": {
   "codemirror_mode": {
    "name": "ipython",
    "version": 3
   },
   "file_extension": ".py",
   "mimetype": "text/x-python",
   "name": "python",
   "nbconvert_exporter": "python",
   "pygments_lexer": "ipython3",
   "version": "3.7.6"
  }
 },
 "nbformat": 4,
 "nbformat_minor": 4
}
